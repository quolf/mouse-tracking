{
 "cells": [
  {
   "cell_type": "code",
   "execution_count": 8,
   "metadata": {
    "collapsed": false
   },
   "outputs": [],
   "source": [
    "%matplotlib inline\n",
    "import matplotlib.pyplot as plt # pyplot.  \n",
    "import numpy as np # numpy.  \n",
    "import cv2 # the OpenCV library.  "
   ]
  },
  {
   "cell_type": "code",
   "execution_count": 9,
   "metadata": {
    "collapsed": true
   },
   "outputs": [],
   "source": [
    "def get_mouse_mask(frame):\n",
    "    hsv =  cv2.cvtColor(frame, cv2.COLOR_BGR2HSV) # convert from RGB to HSV.  \n",
    "    mouse_mask = cv2.inRange(hsv, np.array((0,0,0)), np.array((50,50,50))) \n",
    "                        # create a mask for dark, desaturated things.  \n",
    "    kernel = np.ones((5,5),np.uint8) # a kernel for filtering.  \n",
    "    mouse_mask = cv2.morphologyEx(mouse_mask, cv2.MORPH_CLOSE, kernel) \n",
    "                        # the close filter.  \n",
    "    mouse_mask = cv2.morphologyEx(mouse_mask, cv2.MORPH_OPEN, kernel)\n",
    "                        # the open filter.  \n",
    "    return mouse_mask\n",
    "\n",
    "def get_wall_mask(mouse_mask,wall_left=1,wall_right=1,\n",
    "                             wall_top=50,wall_bottom=50):\n",
    "    wall_mask = mouse_mask.copy() # create a new wall mask for walls \n",
    "                                  # that look like the mouse.  \n",
    "    wall_mask[wall_top:-wall_bottom,wall_left:-wall_right] = 0 \n",
    "                        # nothing more than subtract_* pixels from the \n",
    "                        # top and bottom can be a wall. \n",
    "    return wall_mask  \n",
    "    \n",
    "def show_mask(mask):\n",
    "    plt.imshow(mask) # show the mask  \n",
    "    plt.set_cmap('Greys_r') # display key areas as white and everything \n",
    "                            # else as black  \n",
    "        \n",
    "def get_centroid(mask):\n",
    "    mask_y,mask_x = np.where(mask==255) # get 'on' pixels.  \n",
    "    x_mid = int(mask_x.mean()) # find mean of 'on' x pixels.  \n",
    "    y_mid = int(mask_y.mean()) # find mean of 'on' y pixels.  \n",
    "    return x_mid,y_mid"
   ]
  },
  {
   "cell_type": "code",
   "execution_count": 10,
   "metadata": {
    "collapsed": false
   },
   "outputs": [
    {
     "data": {
      "image/png": "[encoded data removed]",
      "text/plain": [
       "<matplotlib.figure.Figure at 0x1148db7f0>"
      ]
     },
     "metadata": {},
     "output_type": "display_data"
    }
   ],
   "source": [
    "# create a preliminary mouse mask.  \n",
    "cap = cv2.VideoCapture('/Users/rgerkin/Desktop/mouse.avi') \n",
    "                        # open the movie.  \n",
    "ret,frame = cap.read() # get the first frame, which is messed up.  \n",
    "ret,frame = cap.read() # get the second frame.  \n",
    "mouse_mask = get_mouse_mask(frame) # get the mouse mask (with walls)\n",
    "show_mask(mouse_mask) # show the mask  "
   ]
  },
  {
   "cell_type": "code",
   "execution_count": 11,
   "metadata": {
    "collapsed": false
   },
   "outputs": [
    {
     "data": {
      "image/png": "[encoded data removed]",
      "text/plain": [
       "<matplotlib.figure.Figure at 0x11485ee80>"
      ]
     },
     "metadata": {},
     "output_type": "display_data"
    }
   ],
   "source": [
    "# won't be necessary if walls are not dark.  \n",
    "wall_mask = get_wall_mask(mouse_mask)\n",
    "mouse_mask_no_wall = mouse_mask - wall_mask                   \n",
    "show_mask(mouse_mask_no_wall) # Show this new mask  "
   ]
  },
  {
   "cell_type": "code",
   "execution_count": 12,
   "metadata": {
    "collapsed": false
   },
   "outputs": [
    {
     "name": "stdout",
     "output_type": "stream",
     "text": [
      "Initial coordinates are x=481,y=360\n"
     ]
    }
   ],
   "source": [
    "# find the initial location of the mouse.\n",
    "x_mid,y_mid = get_centroid(mouse_mask_no_wall)\n",
    "top,height,left,width = y_mid-40,80,x_mid-40,80 # initial window location  \n",
    "track_window = (left,top,width,height)\n",
    "print(\"Initial coordinates are x=%d,y=%d\" % (x_mid,y_mid))"
   ]
  },
  {
   "cell_type": "code",
   "execution_count": 13,
   "metadata": {
    "collapsed": false
   },
   "outputs": [],
   "source": [
    "# setup the termination criteria\n",
    "# either 10 iteration or move by at least 1 pt\n",
    "term_crit = ( cv2.TERM_CRITERIA_EPS | cv2.TERM_CRITERIA_COUNT, 10, 1 )\n",
    "path = np.array([x_mid,y_mid])\n",
    "cap = cv2.VideoCapture('/Users/rgerkin/Desktop/mouse.avi') \n",
    "                        # open the movie. \n",
    "while(1): # the main loop.  \n",
    "    ret,frame = cap.read() # get a frame.  \n",
    "    if not ret: # if there is no frame to get.  \n",
    "        break # exit the loop.  \n",
    "    mouse_mask = get_mouse_mask(frame)\n",
    "    mouse_mask_no_wall = mouse_mask - wall_mask\n",
    "    ret, track_window = cv2.CamShift(mouse_mask_no_wall, \n",
    "                                     track_window, term_crit)\n",
    "        # apply camshift to get the new location\n",
    "    box = cv2.boxPoints(ret) # get the bounding box\n",
    "    box = np.int0(box) # convert to integers\n",
    "    #path = np.vstack((path,box.mean(axis=0)))\n",
    "    #if(len(path)>10):\n",
    "    #    v = 0\n",
    "    #    for i in range(10):\n",
    "    #        v += (10*(i+1))*(path[-1-i] - path[-2-i])\n",
    "    #    v = np.array([path[-1],path[-1]+v])\n",
    "    #    v = np.int0(v)\n",
    "    #    img2 = cv2.polylines(frame,[box,v],True, 255,2) \n",
    "    #else:\n",
    "    #    # create image with box\n",
    "    img2 = cv2.polylines(frame,[box],True, 255,2)\n",
    "    cv2.imshow('img2',img2) # show the image\n",
    "    k = cv2.waitKey(60) & 0xff # get a keystroke\n",
    "    if k == 27: # if the escape key is pressed \n",
    "        break # exit the loop\n",
    "        \n",
    "cv2.destroyAllWindows() # close all windows  \n",
    "cap.release() # close the movie"
   ]
  },
  {
   "cell_type": "code",
   "execution_count": null,
   "metadata": {
    "collapsed": false
   },
   "outputs": [],
   "source": [
    "[path[-1],path[-1]+v]"
   ]
  },
  {
   "cell_type": "code",
   "execution_count": null,
   "metadata": {
    "collapsed": true
   },
   "outputs": [],
   "source": []
  }
 ],
 "metadata": {
  "kernelspec": {
   "display_name": "Python 3",
   "language": "python",
   "name": "python3"
  },
  "language_info": {
   "codemirror_mode": {
    "name": "ipython",
    "version": 3
   },
   "file_extension": ".py",
   "mimetype": "text/x-python",
   "name": "python",
   "nbconvert_exporter": "python",
   "pygments_lexer": "ipython3",
   "version": "3.4.2"
  }
 },
 "nbformat": 4,
 "nbformat_minor": 0
}
